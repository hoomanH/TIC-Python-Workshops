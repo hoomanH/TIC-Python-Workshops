{
 "cells": [
  {
   "cell_type": "code",
   "execution_count": 1,
   "metadata": {},
   "outputs": [
    {
     "name": "stdout",
     "output_type": "stream",
     "text": [
      "{'salam': 1, 'i': 1, 'am': 1, 'ali': 2, 'is': 1, 'great': 1}\n"
     ]
    }
   ],
   "source": [
    "\n",
    "\n",
    "file2 = 'salam i am ali ali is great'\n",
    "\n",
    "wordcount={}\n",
    "for word in file2.split():\n",
    "    if word not in wordcount:\n",
    "        wordcount[word] = 1\n",
    "    else:\n",
    "        wordcount[word] += 1\n",
    "print (wordcount)"
   ]
  },
  {
   "cell_type": "code",
   "execution_count": 10,
   "metadata": {},
   "outputs": [
    {
     "name": "stdout",
     "output_type": "stream",
     "text": [
      "['salam', 'salam', 'salam', 'hi', 'hi', 'go', 'salam']\n",
      "\n",
      " iterated word     number \n",
      "---------------------------\n",
      "\n",
      "salam                      4 \n",
      "\n",
      "salam                      3 \n",
      "\n",
      "salam                      2 \n",
      "\n",
      "hi                      2 \n",
      "\n",
      "hi                      1 \n",
      "\n",
      "go                      1 \n",
      "\n",
      "salam                      1 \n",
      "\n"
     ]
    }
   ],
   "source": [
    "def search(y:list):\n",
    "    for i in range(0,len(y)):\n",
    "        c=1\n",
    "        for j in range(i+1,len(y)):\n",
    "            if y[i] == y[j]:\n",
    "                c+=1\n",
    "        print(y[i],'                    ',c,'\\n') \n",
    "        \n",
    "        for i in \n",
    "\n",
    "#*********************************************************************************\n",
    "# Main program\n",
    "x = 'salam salam salam hi hi go salam'\n",
    "\n",
    "q1=x.split(' ')\n",
    "print(q1)\n",
    "\n",
    "print('\\n iterated word     number ')\n",
    "print('---------------------------\\n')\n",
    "search(q1)\n"
   ]
  },
  {
   "cell_type": "code",
   "execution_count": 12,
   "metadata": {},
   "outputs": [
    {
     "name": "stdout",
     "output_type": "stream",
     "text": [
      "salam,3\n",
      "hi,2\n"
     ]
    }
   ],
   "source": [
    "\n",
    "dic = {}\n",
    "\n",
    "r = 'salam salam salam hi hi'\n",
    "\n",
    "s = r.split()\n",
    "\n",
    "for w in s:\n",
    "    dic[w] = dic.get(w,0)+1\n",
    "\n",
    "print ('\\n'.join(['%s,%s' % (k, v) for k, v in dic.items()]))\n",
    "\n",
    "\n",
    "\n",
    "\n"
   ]
  },
  {
   "cell_type": "code",
   "execution_count": 13,
   "metadata": {},
   "outputs": [
    {
     "name": "stdout",
     "output_type": "stream",
     "text": [
      "salam  =  3\n",
      "hi  =  2\n"
     ]
    }
   ],
   "source": [
    "a = 'salam salam salam hi hi'\n",
    "\n",
    "b=a.split()\n",
    "c=[b[0]]\n",
    "k=0\n",
    "for i in range(len(b)-1):\n",
    "    k +=1\n",
    "    x=0\n",
    "    for j in range(k):\n",
    "        if b[i+1]==b[j]:\n",
    "            x=1\n",
    "    if x==0 :\n",
    "        c.append(b[i+1])\n",
    "d=[]\n",
    "for i in c:\n",
    "    d=d+[b.count(i)]\n",
    "\n",
    "for i in range(len(c)):\n",
    "    print(c[i],' = ',d[i])"
   ]
  },
  {
   "cell_type": "code",
   "execution_count": 14,
   "metadata": {},
   "outputs": [
    {
     "name": "stdout",
     "output_type": "stream",
     "text": [
      "[(12, 'the'), (11, 'to'), (9, 'of'), (7, 'and'), (6, 'that'), (4, 'these'), (4, 'them'), (4, 'are'), (3, 'which'), (3, 'their'), (3, 'powers'), (3, 'among'), (2, 'with'), (2, 'they'), (2, 'such'), (2, 'rights'), (2, 'men'), (2, 'its'), (2, 'it'), (2, 'happiness'), (2, 'government'), (2, 'form'), (2, 'equal'), (1, 'whenever'), (1, 'we'), (1, 'unalienable'), (1, 'truths'), (1, 'station'), (1, 'should'), (1, 'shall'), (1, 'separation'), (1, 'separate'), (1, 'self'), (1, 'seem'), (1, 'secure'), (1, 'safety'), (1, 'right'), (1, 'respect'), (1, 'requires'), (1, 'pursuit'), (1, 'principles'), (1, 'people'), (1, 'organizing'), (1, 'or'), (1, 'opinions'), (1, 'on'), (1, 'new'), (1, \"nature's\"), (1, 'nature'), (1, 'most'), (1, 'mankind'), (1, 'likely'), (1, 'life'), (1, 'liberty'), (1, 'laying'), (1, 'laws'), (1, 'just'), (1, 'is'), (1, 'instituted'), (1, 'institute'), (1, 'in'), (1, 'impel'), (1, 'hold'), (1, 'have'), (1, 'governments'), (1, 'governed'), (1, 'god'), (1, 'from'), (1, 'foundation'), (1, 'evident'), (1, 'entitle'), (1, 'ends'), (1, 'endowed'), (1, 'effect'), (1, 'earth'), (1, 'destructive'), (1, 'deriving'), (1, 'declare'), (1, 'decent'), (1, 'creator'), (1, 'created'), (1, 'consent'), (1, 'connected'), (1, 'certain'), (1, 'causes'), (1, 'by'), (1, 'becomes'), (1, 'be'), (1, 'bands'), (1, 'assume'), (1, 'as'), (1, 'any'), (1, 'another'), (1, 'alter'), (1, 'all'), (1, 'abolish'), (1, 'a')]\n"
     ]
    }
   ],
   "source": [
    "Text=\"\"\"\n",
    "bands which have connected them with another, and to assume among the powers of the earth, the separate and equal station to which the Laws of Nature and of Nature's God entitle them, a decent respect to the opinions of mankind requires that they should declare the causes which impel them to the separation.  We hold these truths to be\n",
    "self-evident, that all men are created equal, that they are endowed by their Creator with certain unalienable Rights, that among these are Life, Liberty and the pursuit of Happiness.--That to secure these rights, Governments are instituted among Men, deriving their just powers from the consent of the governed, --That whenever any Form of Government becomes destructive of these ends, it is the Right of the People to alter or to abolish it, and to institute new Government, laying its foundation on such principles and organizing its powers in such form, as to them shall seem most likely to effect their Safety and Happiness. \"\"\"\n",
    "\n",
    "\n",
    "for char in '-.,\\n?!':\n",
    "    Text=Text.replace(char,' ')\n",
    "Text = Text.lower()\n",
    "word_list = Text.split()\n",
    "\n",
    "d2={}\n",
    "for w in word_list:\n",
    "    if w not in d2:\n",
    "        d2[w]=0\n",
    "    d2[w]+=1\n",
    "\n",
    "word_freq=[]\n",
    "for key,value in d2.items():\n",
    "    word_freq.append((value,key))\n",
    "word_freq.sort(reverse=True)\n",
    "\n",
    "print(word_freq)"
   ]
  },
  {
   "cell_type": "code",
   "execution_count": null,
   "metadata": {},
   "outputs": [],
   "source": []
  }
 ],
 "metadata": {
  "kernelspec": {
   "display_name": "Python 3",
   "language": "python",
   "name": "python3"
  },
  "language_info": {
   "codemirror_mode": {
    "name": "ipython",
    "version": 3
   },
   "file_extension": ".py",
   "mimetype": "text/x-python",
   "name": "python",
   "nbconvert_exporter": "python",
   "pygments_lexer": "ipython3",
   "version": "3.6.6"
  }
 },
 "nbformat": 4,
 "nbformat_minor": 2
}
